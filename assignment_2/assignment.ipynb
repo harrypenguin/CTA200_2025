{
 "cells": [
  {
   "cell_type": "markdown",
   "metadata": {},
   "source": [
    "**Assignment 2**\n",
    "Zehao Peng"
   ]
  },
  {
   "cell_type": "code",
   "execution_count": 1,
   "metadata": {},
   "outputs": [],
   "source": [
    "\"\"\"\n",
    "This function evaluates f(x).\n",
    "Parameters: x - type float\n",
    "Returns: the value of f(x)\n",
    "\"\"\"\n",
    "def f(x):\n",
    "    return x**3 - x**2 - 1\n",
    "\n",
    "\"\"\"\n",
    "This function evaluates the derivative of f(x) w.r.t x.\n",
    "Parameters: x - type float\n",
    "Returns: the value of df(x)\n",
    "\"\"\"\n",
    "def df(x):\n",
    "    return 3*x**2 - 2*x"
   ]
  },
  {
   "cell_type": "code",
   "execution_count": 4,
   "metadata": {},
   "outputs": [],
   "source": [
    "\"\"\"\n",
    "This function implements the Newton Iteration to find the root of f(x).\n",
    "Parameters: f - function to find the root of\n",
    "            df - derivative of f\n",
    "            x0 - initial guess for the root\n",
    "            epsilon - tolerance for convergence\n",
    "            max_iter - maximum number of iterations\n",
    "Returns: the root of f(x) if found, None otherwise\n",
    "\"\"\"\n",
    "def newton(f, df, x0, epsilon=1e-6, max_iter=30):\n",
    "    i = 0\n",
    "    xn = x0\n",
    "    while abs(f(xn)) > epsilon:\n",
    "        xn = xn - f(xn)/df(xn)\n",
    "        i += 1\n",
    "        if i > max_iter:\n",
    "            print('Iteration failed')\n",
    "            return None\n",
    "    print(f\"Found root in {i} iterations\")\n",
    "    return xn"
   ]
  },
  {
   "cell_type": "code",
   "execution_count": 6,
   "metadata": {},
   "outputs": [
    {
     "name": "stdout",
     "output_type": "stream",
     "text": [
      "Found root in 3 iterations\n",
      "Found root in 13 iterations\n"
     ]
    },
    {
     "data": {
      "text/plain": [
       "1.465571231877514"
      ]
     },
     "execution_count": 6,
     "metadata": {},
     "output_type": "execute_result"
    }
   ],
   "source": [
    "newton(f, df, 1.5)"
   ]
  },
  {
   "cell_type": "code",
   "execution_count": 7,
   "metadata": {},
   "outputs": [
    {
     "name": "stdout",
     "output_type": "stream",
     "text": [
      "Found root in 13 iterations\n"
     ]
    },
    {
     "data": {
      "text/plain": [
       "1.465571231877514"
      ]
     },
     "execution_count": 7,
     "metadata": {},
     "output_type": "execute_result"
    }
   ],
   "source": [
    "newton(f, df, 42)"
   ]
  },
  {
   "cell_type": "code",
   "execution_count": 19,
   "metadata": {},
   "outputs": [
    {
     "name": "stdout",
     "output_type": "stream",
     "text": [
      "Found root in 13 iterations\n"
     ]
    },
    {
     "data": {
      "text/plain": [
       "1.465571231877514"
      ]
     },
     "execution_count": 19,
     "metadata": {},
     "output_type": "execute_result"
    }
   ],
   "source": [
    "newton(f, df, 42, epsilon=1e-8)"
   ]
  },
  {
   "cell_type": "markdown",
   "metadata": {},
   "source": [
    "It still works. In fact, it converges with the same number of iterations."
   ]
  }
 ],
 "metadata": {
  "kernelspec": {
   "display_name": "Python 3",
   "language": "python",
   "name": "python3"
  },
  "language_info": {
   "codemirror_mode": {
    "name": "ipython",
    "version": 3
   },
   "file_extension": ".py",
   "mimetype": "text/x-python",
   "name": "python",
   "nbconvert_exporter": "python",
   "pygments_lexer": "ipython3",
   "version": "3.12.1"
  }
 },
 "nbformat": 4,
 "nbformat_minor": 2
}
